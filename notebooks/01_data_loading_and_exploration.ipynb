{
 "cells": [
  {
   "cell_type": "code",
   "execution_count": 1,
   "id": "154947c9",
   "metadata": {},
   "outputs": [],
   "source": [
    "import pandas as pd\n",
    "import numpy as np\n",
    "import matplotlib.pyplot as plt\n",
    "import seaborn as sns\n",
    "\n",
    "pd.set_option('display.max_colwidth', None)\n",
    "sns.set_style(\"whitegrid\")"
   ]
  },
  {
   "cell_type": "code",
   "execution_count": 2,
   "id": "eec5eb5c",
   "metadata": {},
   "outputs": [
    {
     "name": "stdout",
     "output_type": "stream",
     "text": [
      "✅Dataset shape: (1600000, 6)\n"
     ]
    },
    {
     "data": {
      "application/vnd.microsoft.datawrangler.viewer.v0+json": {
       "columns": [
        {
         "name": "index",
         "rawType": "int64",
         "type": "integer"
        },
        {
         "name": "target",
         "rawType": "int64",
         "type": "integer"
        },
        {
         "name": "id",
         "rawType": "int64",
         "type": "integer"
        },
        {
         "name": "date",
         "rawType": "object",
         "type": "string"
        },
        {
         "name": "flag",
         "rawType": "object",
         "type": "string"
        },
        {
         "name": "user",
         "rawType": "object",
         "type": "string"
        },
        {
         "name": "text",
         "rawType": "object",
         "type": "string"
        }
       ],
       "ref": "26824370-d2ff-4562-bc2e-134bae5cec4d",
       "rows": [
        [
         "0",
         "0",
         "1467810369",
         "Mon Apr 06 22:19:45 PDT 2009",
         "NO_QUERY",
         "_TheSpecialOne_",
         "@switchfoot http://twitpic.com/2y1zl - Awww, that's a bummer.  You shoulda got David Carr of Third Day to do it. ;D"
        ],
        [
         "1",
         "0",
         "1467810672",
         "Mon Apr 06 22:19:49 PDT 2009",
         "NO_QUERY",
         "scotthamilton",
         "is upset that he can't update his Facebook by texting it... and might cry as a result  School today also. Blah!"
        ],
        [
         "2",
         "0",
         "1467810917",
         "Mon Apr 06 22:19:53 PDT 2009",
         "NO_QUERY",
         "mattycus",
         "@Kenichan I dived many times for the ball. Managed to save 50%  The rest go out of bounds"
        ],
        [
         "3",
         "0",
         "1467811184",
         "Mon Apr 06 22:19:57 PDT 2009",
         "NO_QUERY",
         "ElleCTF",
         "my whole body feels itchy and like its on fire "
        ],
        [
         "4",
         "0",
         "1467811193",
         "Mon Apr 06 22:19:57 PDT 2009",
         "NO_QUERY",
         "Karoli",
         "@nationwideclass no, it's not behaving at all. i'm mad. why am i here? because I can't see you all over there. "
        ]
       ],
       "shape": {
        "columns": 6,
        "rows": 5
       }
      },
      "text/html": [
       "<div>\n",
       "<style scoped>\n",
       "    .dataframe tbody tr th:only-of-type {\n",
       "        vertical-align: middle;\n",
       "    }\n",
       "\n",
       "    .dataframe tbody tr th {\n",
       "        vertical-align: top;\n",
       "    }\n",
       "\n",
       "    .dataframe thead th {\n",
       "        text-align: right;\n",
       "    }\n",
       "</style>\n",
       "<table border=\"1\" class=\"dataframe\">\n",
       "  <thead>\n",
       "    <tr style=\"text-align: right;\">\n",
       "      <th></th>\n",
       "      <th>target</th>\n",
       "      <th>id</th>\n",
       "      <th>date</th>\n",
       "      <th>flag</th>\n",
       "      <th>user</th>\n",
       "      <th>text</th>\n",
       "    </tr>\n",
       "  </thead>\n",
       "  <tbody>\n",
       "    <tr>\n",
       "      <th>0</th>\n",
       "      <td>0</td>\n",
       "      <td>1467810369</td>\n",
       "      <td>Mon Apr 06 22:19:45 PDT 2009</td>\n",
       "      <td>NO_QUERY</td>\n",
       "      <td>_TheSpecialOne_</td>\n",
       "      <td>@switchfoot http://twitpic.com/2y1zl - Awww, that's a bummer.  You shoulda got David Carr of Third Day to do it. ;D</td>\n",
       "    </tr>\n",
       "    <tr>\n",
       "      <th>1</th>\n",
       "      <td>0</td>\n",
       "      <td>1467810672</td>\n",
       "      <td>Mon Apr 06 22:19:49 PDT 2009</td>\n",
       "      <td>NO_QUERY</td>\n",
       "      <td>scotthamilton</td>\n",
       "      <td>is upset that he can't update his Facebook by texting it... and might cry as a result  School today also. Blah!</td>\n",
       "    </tr>\n",
       "    <tr>\n",
       "      <th>2</th>\n",
       "      <td>0</td>\n",
       "      <td>1467810917</td>\n",
       "      <td>Mon Apr 06 22:19:53 PDT 2009</td>\n",
       "      <td>NO_QUERY</td>\n",
       "      <td>mattycus</td>\n",
       "      <td>@Kenichan I dived many times for the ball. Managed to save 50%  The rest go out of bounds</td>\n",
       "    </tr>\n",
       "    <tr>\n",
       "      <th>3</th>\n",
       "      <td>0</td>\n",
       "      <td>1467811184</td>\n",
       "      <td>Mon Apr 06 22:19:57 PDT 2009</td>\n",
       "      <td>NO_QUERY</td>\n",
       "      <td>ElleCTF</td>\n",
       "      <td>my whole body feels itchy and like its on fire</td>\n",
       "    </tr>\n",
       "    <tr>\n",
       "      <th>4</th>\n",
       "      <td>0</td>\n",
       "      <td>1467811193</td>\n",
       "      <td>Mon Apr 06 22:19:57 PDT 2009</td>\n",
       "      <td>NO_QUERY</td>\n",
       "      <td>Karoli</td>\n",
       "      <td>@nationwideclass no, it's not behaving at all. i'm mad. why am i here? because I can't see you all over there.</td>\n",
       "    </tr>\n",
       "  </tbody>\n",
       "</table>\n",
       "</div>"
      ],
      "text/plain": [
       "   target          id                          date      flag  \\\n",
       "0       0  1467810369  Mon Apr 06 22:19:45 PDT 2009  NO_QUERY   \n",
       "1       0  1467810672  Mon Apr 06 22:19:49 PDT 2009  NO_QUERY   \n",
       "2       0  1467810917  Mon Apr 06 22:19:53 PDT 2009  NO_QUERY   \n",
       "3       0  1467811184  Mon Apr 06 22:19:57 PDT 2009  NO_QUERY   \n",
       "4       0  1467811193  Mon Apr 06 22:19:57 PDT 2009  NO_QUERY   \n",
       "\n",
       "              user  \\\n",
       "0  _TheSpecialOne_   \n",
       "1    scotthamilton   \n",
       "2         mattycus   \n",
       "3          ElleCTF   \n",
       "4           Karoli   \n",
       "\n",
       "                                                                                                                  text  \n",
       "0  @switchfoot http://twitpic.com/2y1zl - Awww, that's a bummer.  You shoulda got David Carr of Third Day to do it. ;D  \n",
       "1      is upset that he can't update his Facebook by texting it... and might cry as a result  School today also. Blah!  \n",
       "2                            @Kenichan I dived many times for the ball. Managed to save 50%  The rest go out of bounds  \n",
       "3                                                                      my whole body feels itchy and like its on fire   \n",
       "4      @nationwideclass no, it's not behaving at all. i'm mad. why am i here? because I can't see you all over there.   "
      ]
     },
     "execution_count": 2,
     "metadata": {},
     "output_type": "execute_result"
    }
   ],
   "source": [
    "columns = [\"target\", \"id\", \"date\", \"flag\", \"user\", \"text\"]\n",
    "\n",
    "file_path = \"../data/raw/sentiment140.csv\"\n",
    "df = pd.read_csv(file_path, encoding=\"ISO-8859-1\", names=columns)\n",
    "\n",
    "print(f\"✅Dataset shape: {df.shape}\")\n",
    "df.head()"
   ]
  },
  {
   "cell_type": "code",
   "execution_count": 3,
   "id": "8fa8ad76",
   "metadata": {},
   "outputs": [
    {
     "name": "stdout",
     "output_type": "stream",
     "text": [
      "<class 'pandas.core.frame.DataFrame'>\n",
      "RangeIndex: 1600000 entries, 0 to 1599999\n",
      "Data columns (total 6 columns):\n",
      " #   Column  Non-Null Count    Dtype \n",
      "---  ------  --------------    ----- \n",
      " 0   target  1600000 non-null  int64 \n",
      " 1   id      1600000 non-null  int64 \n",
      " 2   date    1600000 non-null  object\n",
      " 3   flag    1600000 non-null  object\n",
      " 4   user    1600000 non-null  object\n",
      " 5   text    1600000 non-null  object\n",
      "dtypes: int64(2), object(4)\n",
      "memory usage: 73.2+ MB\n"
     ]
    },
    {
     "data": {
      "application/vnd.microsoft.datawrangler.viewer.v0+json": {
       "columns": [
        {
         "name": "index",
         "rawType": "object",
         "type": "string"
        },
        {
         "name": "target",
         "rawType": "float64",
         "type": "float"
        },
        {
         "name": "id",
         "rawType": "float64",
         "type": "float"
        }
       ],
       "ref": "bf237366-6534-4222-8732-caace2863a5f",
       "rows": [
        [
         "count",
         "1600000.0",
         "1600000.0"
        ],
        [
         "mean",
         "2.0",
         "1998817552.2956276"
        ],
        [
         "std",
         "2.000000625000293",
         "193576073.62267494"
        ],
        [
         "min",
         "0.0",
         "1467810369.0"
        ],
        [
         "25%",
         "0.0",
         "1956915818.0"
        ],
        [
         "50%",
         "2.0",
         "2002101855.0"
        ],
        [
         "75%",
         "4.0",
         "2177059128.75"
        ],
        [
         "max",
         "4.0",
         "2329205794.0"
        ]
       ],
       "shape": {
        "columns": 2,
        "rows": 8
       }
      },
      "text/html": [
       "<div>\n",
       "<style scoped>\n",
       "    .dataframe tbody tr th:only-of-type {\n",
       "        vertical-align: middle;\n",
       "    }\n",
       "\n",
       "    .dataframe tbody tr th {\n",
       "        vertical-align: top;\n",
       "    }\n",
       "\n",
       "    .dataframe thead th {\n",
       "        text-align: right;\n",
       "    }\n",
       "</style>\n",
       "<table border=\"1\" class=\"dataframe\">\n",
       "  <thead>\n",
       "    <tr style=\"text-align: right;\">\n",
       "      <th></th>\n",
       "      <th>target</th>\n",
       "      <th>id</th>\n",
       "    </tr>\n",
       "  </thead>\n",
       "  <tbody>\n",
       "    <tr>\n",
       "      <th>count</th>\n",
       "      <td>1.600000e+06</td>\n",
       "      <td>1.600000e+06</td>\n",
       "    </tr>\n",
       "    <tr>\n",
       "      <th>mean</th>\n",
       "      <td>2.000000e+00</td>\n",
       "      <td>1.998818e+09</td>\n",
       "    </tr>\n",
       "    <tr>\n",
       "      <th>std</th>\n",
       "      <td>2.000001e+00</td>\n",
       "      <td>1.935761e+08</td>\n",
       "    </tr>\n",
       "    <tr>\n",
       "      <th>min</th>\n",
       "      <td>0.000000e+00</td>\n",
       "      <td>1.467810e+09</td>\n",
       "    </tr>\n",
       "    <tr>\n",
       "      <th>25%</th>\n",
       "      <td>0.000000e+00</td>\n",
       "      <td>1.956916e+09</td>\n",
       "    </tr>\n",
       "    <tr>\n",
       "      <th>50%</th>\n",
       "      <td>2.000000e+00</td>\n",
       "      <td>2.002102e+09</td>\n",
       "    </tr>\n",
       "    <tr>\n",
       "      <th>75%</th>\n",
       "      <td>4.000000e+00</td>\n",
       "      <td>2.177059e+09</td>\n",
       "    </tr>\n",
       "    <tr>\n",
       "      <th>max</th>\n",
       "      <td>4.000000e+00</td>\n",
       "      <td>2.329206e+09</td>\n",
       "    </tr>\n",
       "  </tbody>\n",
       "</table>\n",
       "</div>"
      ],
      "text/plain": [
       "             target            id\n",
       "count  1.600000e+06  1.600000e+06\n",
       "mean   2.000000e+00  1.998818e+09\n",
       "std    2.000001e+00  1.935761e+08\n",
       "min    0.000000e+00  1.467810e+09\n",
       "25%    0.000000e+00  1.956916e+09\n",
       "50%    2.000000e+00  2.002102e+09\n",
       "75%    4.000000e+00  2.177059e+09\n",
       "max    4.000000e+00  2.329206e+09"
      ]
     },
     "execution_count": 3,
     "metadata": {},
     "output_type": "execute_result"
    }
   ],
   "source": [
    "df.info()\n",
    "\n",
    "df.describe()"
   ]
  },
  {
   "cell_type": "code",
   "execution_count": 4,
   "id": "caf61a2d",
   "metadata": {},
   "outputs": [
    {
     "data": {
      "application/vnd.microsoft.datawrangler.viewer.v0+json": {
       "columns": [
        {
         "name": "sentiment",
         "rawType": "object",
         "type": "string"
        },
        {
         "name": "count",
         "rawType": "int64",
         "type": "integer"
        }
       ],
       "ref": "323aa1c8-c085-4f82-9210-c4ccc0f03a9b",
       "rows": [
        [
         "Negative",
         "800000"
        ],
        [
         "Positive",
         "800000"
        ]
       ],
       "shape": {
        "columns": 1,
        "rows": 2
       }
      },
      "text/plain": [
       "sentiment\n",
       "Negative    800000\n",
       "Positive    800000\n",
       "Name: count, dtype: int64"
      ]
     },
     "execution_count": 4,
     "metadata": {},
     "output_type": "execute_result"
    }
   ],
   "source": [
    "df['sentiment'] = np.where(df['target'] == 0, 'Negative', 'Positive')\n",
    "\n",
    "df['sentiment'].value_counts()"
   ]
  },
  {
   "cell_type": "code",
   "execution_count": 5,
   "id": "037f31d9",
   "metadata": {},
   "outputs": [
    {
     "data": {
      "image/png": "[encoded data removed]",
      "text/plain": [
       "<Figure size 2000x1000 with 1 Axes>"
      ]
     },
     "metadata": {},
     "output_type": "display_data"
    }
   ],
   "source": [
    "plt.figure(figsize=(20, 10))\n",
    "sns.countplot(data=df, x='sentiment', hue='sentiment', palette='Set2', legend=False)\n",
    "plt.title(\"Sentiment Class Distribution\", fontsize=20, fontweight='bold',fontfamily='sans-serif')\n",
    "plt.xlabel(\"Sentiment\", fontsize=18, fontfamily='sans-serif')\n",
    "plt.ylabel(\"Tweet Count\", fontsize=18, fontfamily='sans-serif')\n",
    "\n",
    "plt.xticks(fontsize=20, fontfamily='sans-serif')\n",
    "plt.yticks(fontsize=20, fontfamily='sans-serif')\n",
    "\n",
    "plt.show()\n"
   ]
  },
  {
   "cell_type": "code",
   "execution_count": 6,
   "id": "43603014",
   "metadata": {},
   "outputs": [
    {
     "name": "stdout",
     "output_type": "stream",
     "text": [
      "🔎 Missing values per column:\n",
      "target       0\n",
      "id           0\n",
      "date         0\n",
      "flag         0\n",
      "user         0\n",
      "text         0\n",
      "sentiment    0\n",
      "dtype: int64\n",
      "\n",
      "📛 Duplicate records: 0\n"
     ]
    }
   ],
   "source": [
    "print(\"🔎 Missing values per column:\")\n",
    "print(df.isnull().sum())\n",
    "\n",
    "print(\"\\n📛 Duplicate records:\", df.duplicated().sum())"
   ]
  },
  {
   "cell_type": "code",
   "execution_count": 7,
   "id": "64d01002",
   "metadata": {},
   "outputs": [
    {
     "name": "stdout",
     "output_type": "stream",
     "text": [
      "\n",
      "🔹 Sample tweets for sentiment: Negative\n"
     ]
    },
    {
     "data": {
      "application/vnd.microsoft.datawrangler.viewer.v0+json": {
       "columns": [
        {
         "name": "index",
         "rawType": "int64",
         "type": "integer"
        },
        {
         "name": "text",
         "rawType": "object",
         "type": "string"
        }
       ],
       "ref": "29175335-bb50-46f1-9215-36a770ce29eb",
       "rows": [
        [
         "212188",
         "@xnausikaax oh no! where did u order from? that's horrible "
        ],
        [
         "299036",
         "A great hard training weekend is over.  a couple days of rest and lets do it again!  Lots of computer time to put in now "
        ],
        [
         "475978",
         "Right, off to work  Only 5 hours to go until I'm free xD"
        ],
        [
         "588988",
         "I am craving for japanese food "
        ],
        [
         "138859",
         "Jean Michel Jarre concert tomorrow  gotta work 7-3 before though "
        ]
       ],
       "shape": {
        "columns": 1,
        "rows": 5
       }
      },
      "text/html": [
       "<div>\n",
       "<style scoped>\n",
       "    .dataframe tbody tr th:only-of-type {\n",
       "        vertical-align: middle;\n",
       "    }\n",
       "\n",
       "    .dataframe tbody tr th {\n",
       "        vertical-align: top;\n",
       "    }\n",
       "\n",
       "    .dataframe thead th {\n",
       "        text-align: right;\n",
       "    }\n",
       "</style>\n",
       "<table border=\"1\" class=\"dataframe\">\n",
       "  <thead>\n",
       "    <tr style=\"text-align: right;\">\n",
       "      <th></th>\n",
       "      <th>text</th>\n",
       "    </tr>\n",
       "  </thead>\n",
       "  <tbody>\n",
       "    <tr>\n",
       "      <th>212188</th>\n",
       "      <td>@xnausikaax oh no! where did u order from? that's horrible</td>\n",
       "    </tr>\n",
       "    <tr>\n",
       "      <th>299036</th>\n",
       "      <td>A great hard training weekend is over.  a couple days of rest and lets do it again!  Lots of computer time to put in now</td>\n",
       "    </tr>\n",
       "    <tr>\n",
       "      <th>475978</th>\n",
       "      <td>Right, off to work  Only 5 hours to go until I'm free xD</td>\n",
       "    </tr>\n",
       "    <tr>\n",
       "      <th>588988</th>\n",
       "      <td>I am craving for japanese food</td>\n",
       "    </tr>\n",
       "    <tr>\n",
       "      <th>138859</th>\n",
       "      <td>Jean Michel Jarre concert tomorrow  gotta work 7-3 before though</td>\n",
       "    </tr>\n",
       "  </tbody>\n",
       "</table>\n",
       "</div>"
      ],
      "text/plain": [
       "                                                                                                                             text\n",
       "212188                                                                @xnausikaax oh no! where did u order from? that's horrible \n",
       "299036  A great hard training weekend is over.  a couple days of rest and lets do it again!  Lots of computer time to put in now \n",
       "475978                                                                   Right, off to work  Only 5 hours to go until I'm free xD\n",
       "588988                                                                                            I am craving for japanese food \n",
       "138859                                                          Jean Michel Jarre concert tomorrow  gotta work 7-3 before though "
      ]
     },
     "metadata": {},
     "output_type": "display_data"
    },
    {
     "name": "stdout",
     "output_type": "stream",
     "text": [
      "\n",
      "🔹 Sample tweets for sentiment: Positive\n"
     ]
    },
    {
     "data": {
      "application/vnd.microsoft.datawrangler.viewer.v0+json": {
       "columns": [
        {
         "name": "index",
         "rawType": "int64",
         "type": "integer"
        },
        {
         "name": "text",
         "rawType": "object",
         "type": "string"
        }
       ],
       "ref": "5a68445f-9594-4e76-b42d-27a1bb3d73da",
       "rows": [
        [
         "1012188",
         "Is lookin 4ward to a long weekend  really dont want to go to work 2day tho =[ x"
        ],
        [
         "1099036",
         "#myweakness  Is music and i live to meet the people who make it "
        ],
        [
         "1275978",
         "figured out the Internet on my new iPod "
        ],
        [
         "1388988",
         "@hillsongunited can't wait to worship with you guys tonight. it'll be so much fun "
        ],
        [
         "938859",
         "@sillybeggar Congrats James !! I'm sure the book is going to be a huge success "
        ]
       ],
       "shape": {
        "columns": 1,
        "rows": 5
       }
      },
      "text/html": [
       "<div>\n",
       "<style scoped>\n",
       "    .dataframe tbody tr th:only-of-type {\n",
       "        vertical-align: middle;\n",
       "    }\n",
       "\n",
       "    .dataframe tbody tr th {\n",
       "        vertical-align: top;\n",
       "    }\n",
       "\n",
       "    .dataframe thead th {\n",
       "        text-align: right;\n",
       "    }\n",
       "</style>\n",
       "<table border=\"1\" class=\"dataframe\">\n",
       "  <thead>\n",
       "    <tr style=\"text-align: right;\">\n",
       "      <th></th>\n",
       "      <th>text</th>\n",
       "    </tr>\n",
       "  </thead>\n",
       "  <tbody>\n",
       "    <tr>\n",
       "      <th>1012188</th>\n",
       "      <td>Is lookin 4ward to a long weekend  really dont want to go to work 2day tho =[ x</td>\n",
       "    </tr>\n",
       "    <tr>\n",
       "      <th>1099036</th>\n",
       "      <td>#myweakness  Is music and i live to meet the people who make it</td>\n",
       "    </tr>\n",
       "    <tr>\n",
       "      <th>1275978</th>\n",
       "      <td>figured out the Internet on my new iPod</td>\n",
       "    </tr>\n",
       "    <tr>\n",
       "      <th>1388988</th>\n",
       "      <td>@hillsongunited can't wait to worship with you guys tonight. it'll be so much fun</td>\n",
       "    </tr>\n",
       "    <tr>\n",
       "      <th>938859</th>\n",
       "      <td>@sillybeggar Congrats James !! I'm sure the book is going to be a huge success</td>\n",
       "    </tr>\n",
       "  </tbody>\n",
       "</table>\n",
       "</div>"
      ],
      "text/plain": [
       "                                                                                       text\n",
       "1012188     Is lookin 4ward to a long weekend  really dont want to go to work 2day tho =[ x\n",
       "1099036                    #myweakness  Is music and i live to meet the people who make it \n",
       "1275978                                            figured out the Internet on my new iPod \n",
       "1388988  @hillsongunited can't wait to worship with you guys tonight. it'll be so much fun \n",
       "938859      @sillybeggar Congrats James !! I'm sure the book is going to be a huge success "
      ]
     },
     "metadata": {},
     "output_type": "display_data"
    }
   ],
   "source": [
    "for label in ['Negative', 'Positive']:\n",
    "    print(f\"\\n🔹 Sample tweets for sentiment: {label}\")\n",
    "    display(df[df['sentiment'] == label][['text']].sample(5, random_state=42))"
   ]
  },
  {
   "cell_type": "code",
   "execution_count": 8,
   "id": "10fa72c4",
   "metadata": {},
   "outputs": [
    {
     "name": "stdout",
     "output_type": "stream",
     "text": [
      "📝 Avg Length: 74.10\n",
      "📝 Median Length: 69.0\n",
      "📝 Std Deviation: 36.46\n"
     ]
    }
   ],
   "source": [
    "tweet_lengths = df['text'].apply(len)\n",
    "\n",
    "avg_len = np.mean(tweet_lengths)\n",
    "med_len = np.median(tweet_lengths)\n",
    "std_len = np.std(tweet_lengths)\n",
    "\n",
    "print(f\"📝 Avg Length: {avg_len:.2f}\")\n",
    "print(f\"📝 Median Length: {med_len}\")\n",
    "print(f\"📝 Std Deviation: {std_len:.2f}\")"
   ]
  },
  {
   "cell_type": "code",
   "execution_count": 9,
   "id": "3bbf9653",
   "metadata": {},
   "outputs": [
    {
     "data": {
      "image/png": "[encoded data removed]",
      "text/plain": [
       "<Figure size 2000x1000 with 1 Axes>"
      ]
     },
     "metadata": {},
     "output_type": "display_data"
    }
   ],
   "source": [
    "plt.figure(figsize=(20, 10))\n",
    "plt.hist(tweet_lengths, bins=np.arange(0, 160, 5), color='cornflowerblue', edgecolor='black')\n",
    "plt.title(\"Tweet Length Distribution\", fontsize=20, fontweight='bold', fontfamily='sans-serif')\n",
    "plt.xlabel(\"Tweet Length (characters)\", fontsize=20, fontfamily='sans-serif')\n",
    "plt.ylabel(\"Frequency\", fontsize=20, fontfamily='sans-serif')\n",
    "\n",
    "plt.xticks(fontsize=20, fontfamily='sans-serif')\n",
    "plt.yticks(fontsize=20, fontfamily='sans-serif')\n",
    "\n",
    "plt.grid(True)\n",
    "plt.tight_layout()\n",
    "plt.show()"
   ]
  }
 ],
 "metadata": {
  "kernelspec": {
   "display_name": "base",
   "language": "python",
   "name": "python3"
  },
  "language_info": {
   "codemirror_mode": {
    "name": "ipython",
    "version": 3
   },
   "file_extension": ".py",
   "mimetype": "text/x-python",
   "name": "python",
   "nbconvert_exporter": "python",
   "pygments_lexer": "ipython3",
   "version": "3.12.7"
  }
 },
 "nbformat": 4,
 "nbformat_minor": 5
}
