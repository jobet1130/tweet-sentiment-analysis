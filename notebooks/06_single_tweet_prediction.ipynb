{
 "cells": [
  {
   "cell_type": "code",
   "execution_count": null,
   "id": "57bd1e54",
   "metadata": {},
   "outputs": [],
   "source": [
    "import re\n",
    "import string\n",
    "import nltk\n",
    "import joblib\n",
    "import numpy as np\n",
    "from nltk.corpus import stopwords\n",
    "from nltk.stem import WordNetLemmatizer\n"
   ]
  },
  {
   "cell_type": "code",
   "execution_count": null,
   "id": "3823cf7d",
   "metadata": {},
   "outputs": [],
   "source": [
    "nltk.download('stopwords')\n",
    "nltk.download('punkt')\n",
    "nltk.download('wordnet')\n"
   ]
  },
  {
   "cell_type": "code",
   "execution_count": null,
   "id": "7988d5cd",
   "metadata": {},
   "outputs": [],
   "source": [
    "vectorizer = joblib.load('../models/tfidf_vectorizer.pkl')\n",
    "label_encoder = joblib.load('../models/label_encoder.pkl')\n",
    "model = joblib.load('../models/logreg_model.pkl')\n"
   ]
  },
  {
   "cell_type": "code",
   "execution_count": null,
   "id": "39b2ef76",
   "metadata": {},
   "outputs": [],
   "source": [
    "stop_words = set(stopwords.words('english'))\n",
    "lemmatizer = WordNetLemmatizer()\n"
   ]
  },
  {
   "cell_type": "code",
   "execution_count": null,
   "id": "14dde096",
   "metadata": {},
   "outputs": [],
   "source": [
    "def preprocess(text):\n",
    "    text = text.lower()\n",
    "    text = re.sub(r'http\\S+|www.\\S+', '', text)\n",
    "    text = re.sub(r'@\\w+|#\\w+|\\d+', '', text)\n",
    "    text = text.translate(str.maketrans('', '', string.punctuation))\n",
    "    tokens = nltk.word_tokenize(text)\n",
    "    tokens = [lemmatizer.lemmatize(w) for w in tokens if w not in stop_words and len(w) > 1]\n",
    "    return ' '.join(tokens)\n"
   ]
  },
  {
   "cell_type": "code",
   "execution_count": null,
   "id": "5662dbdb",
   "metadata": {},
   "outputs": [],
   "source": [
    "def predict_sentiment(tweet):\n",
    "    cleaned = preprocess(tweet)\n",
    "    vector = vectorizer.transform([cleaned])\n",
    "    pred = model.predict(vector)\n",
    "    return label_encoder.inverse_transform(pred)[0]\n"
   ]
  },
  {
   "cell_type": "code",
   "execution_count": null,
   "id": "1d3d58ae",
   "metadata": {},
   "outputs": [],
   "source": [
    "sample = \"I love this product, it's amazing!\"\n",
    "predict_sentiment(sample)\n"
   ]
  }
 ],
 "metadata": {
  "language_info": {
   "name": "python"
  }
 },
 "nbformat": 4,
 "nbformat_minor": 5
}
