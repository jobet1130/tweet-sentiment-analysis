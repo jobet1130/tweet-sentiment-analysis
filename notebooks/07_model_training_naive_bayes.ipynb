{
 "cells": [
  {
   "cell_type": "code",
   "execution_count": null,
   "id": "a3bfe98c",
   "metadata": {},
   "outputs": [],
   "source": [
    "import joblib\n",
    "import numpy as np\n",
    "from sklearn.naive_bayes import MultinomialNB\n",
    "from sklearn.model_selection import train_test_split\n",
    "from sklearn.metrics import accuracy_score, classification_report, confusion_matrix"
   ]
  },
  {
   "cell_type": "code",
   "execution_count": null,
   "id": "34609de5",
   "metadata": {},
   "outputs": [],
   "source": [
    "data = joblib.load(\"../models/tfidf_features_labels.pkl\")\n",
    "X = data[\"X\"]\n",
    "y = data[\"y\"]"
   ]
  }
 ],
 "metadata": {
  "language_info": {
   "name": "python"
  }
 },
 "nbformat": 4,
 "nbformat_minor": 5
}
