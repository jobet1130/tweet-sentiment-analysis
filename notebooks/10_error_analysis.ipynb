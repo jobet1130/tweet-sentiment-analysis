{
 "cells": [
  {
   "cell_type": "code",
   "execution_count": 1,
   "id": "99c02c6d",
   "metadata": {},
   "outputs": [],
   "source": [
    "import joblib\n",
    "import numpy as np\n",
    "import pandas as pd\n",
    "from sklearn.metrics import classification_report, confusion_matrix\n"
   ]
  },
  {
   "cell_type": "code",
   "execution_count": 2,
   "id": "1e0b62be",
   "metadata": {},
   "outputs": [],
   "source": [
    "model = joblib.load(\"../models/logreg_model.pkl\")\n",
    "vectorizer = joblib.load(\"../models/tfidf_vectorizer.pkl\")\n",
    "encoder = joblib.load(\"../models/label_encoder.pkl\")\n"
   ]
  },
  {
   "cell_type": "code",
   "execution_count": 4,
   "id": "207063f5",
   "metadata": {},
   "outputs": [],
   "source": [
    "df = pd.read_csv(\"../data/processed/sentiment140_clean.csv\")\n",
    "df = df.sample(frac=1, random_state=42).reset_index(drop=True)\n",
    "\n",
    "df = df.dropna(subset=[\"clean_text\"]).reset_index(drop=True)\n",
    "\n",
    "X = vectorizer.transform(df[\"clean_text\"])\n",
    "y = encoder.transform(df[\"sentiment\"])\n"
   ]
  },
  {
   "cell_type": "code",
   "execution_count": 5,
   "id": "ff0af7d0",
   "metadata": {},
   "outputs": [],
   "source": [
    "from sklearn.model_selection import train_test_split\n",
    "X_train, X_test, y_train, y_test, df_train, df_test = train_test_split(\n",
    "    X, y, df, test_size=0.2, stratify=y, random_state=42)\n"
   ]
  },
  {
   "cell_type": "code",
   "execution_count": 6,
   "id": "be7d655d",
   "metadata": {},
   "outputs": [],
   "source": [
    "y_pred = model.predict(X_test)\n"
   ]
  },
  {
   "cell_type": "code",
   "execution_count": 7,
   "id": "c7d13470",
   "metadata": {},
   "outputs": [],
   "source": [
    "df_test = df_test.copy()\n",
    "df_test[\"true\"] = encoder.inverse_transform(y_test)\n",
    "df_test[\"pred\"] = encoder.inverse_transform(y_pred)\n",
    "df_test[\"correct\"] = df_test[\"true\"] == df_test[\"pred\"]\n"
   ]
  },
  {
   "cell_type": "code",
   "execution_count": 8,
   "id": "7bbf3700",
   "metadata": {},
   "outputs": [
    {
     "data": {
      "application/vnd.microsoft.datawrangler.viewer.v0+json": {
       "columns": [
        {
         "name": "index",
         "rawType": "object",
         "type": "string"
        },
        {
         "name": "precision",
         "rawType": "float64",
         "type": "float"
        },
        {
         "name": "recall",
         "rawType": "float64",
         "type": "float"
        },
        {
         "name": "f1-score",
         "rawType": "float64",
         "type": "float"
        },
        {
         "name": "support",
         "rawType": "float64",
         "type": "float"
        }
       ],
       "ref": "c68740fb-7a91-4722-b9e6-003c0402b56b",
       "rows": [
        [
         "negative",
         "0.8016255999159625",
         "0.7667208801421691",
         "0.7837848247528566",
         "159247.0"
        ],
        [
         "positive",
         "0.7763832707310026",
         "0.8102001331708482",
         "0.7929313111317402",
         "159194.0"
        ],
        [
         "accuracy",
         "0.7884568884031893",
         "0.7884568884031893",
         "0.7884568884031893",
         "0.7884568884031893"
        ],
        [
         "macro avg",
         "0.7890044353234825",
         "0.7884605066565087",
         "0.7883580679422983",
         "318441.0"
        ],
        [
         "weighted avg",
         "0.7890065359377986",
         "0.7884568884031893",
         "0.7883573067906595",
         "318441.0"
        ]
       ],
       "shape": {
        "columns": 4,
        "rows": 5
       }
      },
      "text/html": [
       "<div>\n",
       "<style scoped>\n",
       "    .dataframe tbody tr th:only-of-type {\n",
       "        vertical-align: middle;\n",
       "    }\n",
       "\n",
       "    .dataframe tbody tr th {\n",
       "        vertical-align: top;\n",
       "    }\n",
       "\n",
       "    .dataframe thead th {\n",
       "        text-align: right;\n",
       "    }\n",
       "</style>\n",
       "<table border=\"1\" class=\"dataframe\">\n",
       "  <thead>\n",
       "    <tr style=\"text-align: right;\">\n",
       "      <th></th>\n",
       "      <th>precision</th>\n",
       "      <th>recall</th>\n",
       "      <th>f1-score</th>\n",
       "      <th>support</th>\n",
       "    </tr>\n",
       "  </thead>\n",
       "  <tbody>\n",
       "    <tr>\n",
       "      <th>negative</th>\n",
       "      <td>0.801626</td>\n",
       "      <td>0.766721</td>\n",
       "      <td>0.783785</td>\n",
       "      <td>159247.000000</td>\n",
       "    </tr>\n",
       "    <tr>\n",
       "      <th>positive</th>\n",
       "      <td>0.776383</td>\n",
       "      <td>0.810200</td>\n",
       "      <td>0.792931</td>\n",
       "      <td>159194.000000</td>\n",
       "    </tr>\n",
       "    <tr>\n",
       "      <th>accuracy</th>\n",
       "      <td>0.788457</td>\n",
       "      <td>0.788457</td>\n",
       "      <td>0.788457</td>\n",
       "      <td>0.788457</td>\n",
       "    </tr>\n",
       "    <tr>\n",
       "      <th>macro avg</th>\n",
       "      <td>0.789004</td>\n",
       "      <td>0.788461</td>\n",
       "      <td>0.788358</td>\n",
       "      <td>318441.000000</td>\n",
       "    </tr>\n",
       "    <tr>\n",
       "      <th>weighted avg</th>\n",
       "      <td>0.789007</td>\n",
       "      <td>0.788457</td>\n",
       "      <td>0.788357</td>\n",
       "      <td>318441.000000</td>\n",
       "    </tr>\n",
       "  </tbody>\n",
       "</table>\n",
       "</div>"
      ],
      "text/plain": [
       "              precision    recall  f1-score        support\n",
       "negative       0.801626  0.766721  0.783785  159247.000000\n",
       "positive       0.776383  0.810200  0.792931  159194.000000\n",
       "accuracy       0.788457  0.788457  0.788457       0.788457\n",
       "macro avg      0.789004  0.788461  0.788358  318441.000000\n",
       "weighted avg   0.789007  0.788457  0.788357  318441.000000"
      ]
     },
     "execution_count": 8,
     "metadata": {},
     "output_type": "execute_result"
    }
   ],
   "source": [
    "report = classification_report(y_test, y_pred, target_names=encoder.classes_, output_dict=True)\n",
    "pd.DataFrame(report).T\n"
   ]
  },
  {
   "cell_type": "code",
   "execution_count": 9,
   "id": "a46cb25d",
   "metadata": {},
   "outputs": [
    {
     "data": {
      "application/vnd.microsoft.datawrangler.viewer.v0+json": {
       "columns": [
        {
         "name": "true",
         "rawType": "object",
         "type": "string"
        },
        {
         "name": "negative",
         "rawType": "float64",
         "type": "float"
        },
        {
         "name": "positive",
         "rawType": "float64",
         "type": "float"
        }
       ],
       "ref": "93a866b2-47ed-41d2-92d5-c51965483681",
       "rows": [
        [
         "negative",
         "0.7667208801421691",
         "0.23327911985783092"
        ],
        [
         "positive",
         "0.18979986682915184",
         "0.8102001331708482"
        ]
       ],
       "shape": {
        "columns": 2,
        "rows": 2
       }
      },
      "text/html": [
       "<div>\n",
       "<style scoped>\n",
       "    .dataframe tbody tr th:only-of-type {\n",
       "        vertical-align: middle;\n",
       "    }\n",
       "\n",
       "    .dataframe tbody tr th {\n",
       "        vertical-align: top;\n",
       "    }\n",
       "\n",
       "    .dataframe thead th {\n",
       "        text-align: right;\n",
       "    }\n",
       "</style>\n",
       "<table border=\"1\" class=\"dataframe\">\n",
       "  <thead>\n",
       "    <tr style=\"text-align: right;\">\n",
       "      <th>pred</th>\n",
       "      <th>negative</th>\n",
       "      <th>positive</th>\n",
       "    </tr>\n",
       "    <tr>\n",
       "      <th>true</th>\n",
       "      <th></th>\n",
       "      <th></th>\n",
       "    </tr>\n",
       "  </thead>\n",
       "  <tbody>\n",
       "    <tr>\n",
       "      <th>negative</th>\n",
       "      <td>0.766721</td>\n",
       "      <td>0.233279</td>\n",
       "    </tr>\n",
       "    <tr>\n",
       "      <th>positive</th>\n",
       "      <td>0.189800</td>\n",
       "      <td>0.810200</td>\n",
       "    </tr>\n",
       "  </tbody>\n",
       "</table>\n",
       "</div>"
      ],
      "text/plain": [
       "pred      negative  positive\n",
       "true                        \n",
       "negative  0.766721  0.233279\n",
       "positive  0.189800  0.810200"
      ]
     },
     "execution_count": 9,
     "metadata": {},
     "output_type": "execute_result"
    }
   ],
   "source": [
    "pd.crosstab(df_test[\"true\"], df_test[\"pred\"], normalize='index')\n"
   ]
  },
  {
   "cell_type": "code",
   "execution_count": 10,
   "id": "03d04ff4",
   "metadata": {},
   "outputs": [],
   "source": [
    "misclassified = df_test[~df_test[\"correct\"]]\n"
   ]
  },
  {
   "cell_type": "code",
   "execution_count": 11,
   "id": "c5591a02",
   "metadata": {},
   "outputs": [
    {
     "data": {
      "application/vnd.microsoft.datawrangler.viewer.v0+json": {
       "columns": [
        {
         "name": "index",
         "rawType": "int64",
         "type": "integer"
        },
        {
         "name": "clean_text",
         "rawType": "object",
         "type": "string"
        },
        {
         "name": "true",
         "rawType": "object",
         "type": "string"
        },
        {
         "name": "pred",
         "rawType": "object",
         "type": "string"
        }
       ],
       "ref": "8a3aed4c-316e-457f-80b0-a92b917933fe",
       "rows": [
        [
         "470198",
         "looked intently exersaucer raised closed fist opened closed quotmilkquot boy sign",
         "positive",
         "negative"
        ],
        [
         "1321008",
         "type back",
         "negative",
         "positive"
        ],
        [
         "987716",
         "slow weekend ready take week",
         "positive",
         "negative"
        ],
        [
         "1321196",
         "bachelorette sadddddddd wes still liked jake",
         "negative",
         "positive"
        ],
        [
         "348949",
         "actually new lesson plan changin book",
         "negative",
         "positive"
        ],
        [
         "27106",
         "crappy",
         "positive",
         "negative"
        ],
        [
         "432322",
         "took way longer home making dino nugget",
         "positive",
         "negative"
        ],
        [
         "869304",
         "ill twitter wme tho ipod",
         "positive",
         "negative"
        ],
        [
         "1509294",
         "go back later buy u",
         "negative",
         "positive"
        ],
        [
         "594122",
         "rgamethi live account",
         "negative",
         "positive"
        ]
       ],
       "shape": {
        "columns": 3,
        "rows": 10
       }
      },
      "text/html": [
       "<div>\n",
       "<style scoped>\n",
       "    .dataframe tbody tr th:only-of-type {\n",
       "        vertical-align: middle;\n",
       "    }\n",
       "\n",
       "    .dataframe tbody tr th {\n",
       "        vertical-align: top;\n",
       "    }\n",
       "\n",
       "    .dataframe thead th {\n",
       "        text-align: right;\n",
       "    }\n",
       "</style>\n",
       "<table border=\"1\" class=\"dataframe\">\n",
       "  <thead>\n",
       "    <tr style=\"text-align: right;\">\n",
       "      <th></th>\n",
       "      <th>clean_text</th>\n",
       "      <th>true</th>\n",
       "      <th>pred</th>\n",
       "    </tr>\n",
       "  </thead>\n",
       "  <tbody>\n",
       "    <tr>\n",
       "      <th>470198</th>\n",
       "      <td>looked intently exersaucer raised closed fist ...</td>\n",
       "      <td>positive</td>\n",
       "      <td>negative</td>\n",
       "    </tr>\n",
       "    <tr>\n",
       "      <th>1321008</th>\n",
       "      <td>type back</td>\n",
       "      <td>negative</td>\n",
       "      <td>positive</td>\n",
       "    </tr>\n",
       "    <tr>\n",
       "      <th>987716</th>\n",
       "      <td>slow weekend ready take week</td>\n",
       "      <td>positive</td>\n",
       "      <td>negative</td>\n",
       "    </tr>\n",
       "    <tr>\n",
       "      <th>1321196</th>\n",
       "      <td>bachelorette sadddddddd wes still liked jake</td>\n",
       "      <td>negative</td>\n",
       "      <td>positive</td>\n",
       "    </tr>\n",
       "    <tr>\n",
       "      <th>348949</th>\n",
       "      <td>actually new lesson plan changin book</td>\n",
       "      <td>negative</td>\n",
       "      <td>positive</td>\n",
       "    </tr>\n",
       "    <tr>\n",
       "      <th>27106</th>\n",
       "      <td>crappy</td>\n",
       "      <td>positive</td>\n",
       "      <td>negative</td>\n",
       "    </tr>\n",
       "    <tr>\n",
       "      <th>432322</th>\n",
       "      <td>took way longer home making dino nugget</td>\n",
       "      <td>positive</td>\n",
       "      <td>negative</td>\n",
       "    </tr>\n",
       "    <tr>\n",
       "      <th>869304</th>\n",
       "      <td>ill twitter wme tho ipod</td>\n",
       "      <td>positive</td>\n",
       "      <td>negative</td>\n",
       "    </tr>\n",
       "    <tr>\n",
       "      <th>1509294</th>\n",
       "      <td>go back later buy u</td>\n",
       "      <td>negative</td>\n",
       "      <td>positive</td>\n",
       "    </tr>\n",
       "    <tr>\n",
       "      <th>594122</th>\n",
       "      <td>rgamethi live account</td>\n",
       "      <td>negative</td>\n",
       "      <td>positive</td>\n",
       "    </tr>\n",
       "  </tbody>\n",
       "</table>\n",
       "</div>"
      ],
      "text/plain": [
       "                                                clean_text      true      pred\n",
       "470198   looked intently exersaucer raised closed fist ...  positive  negative\n",
       "1321008                                          type back  negative  positive\n",
       "987716                        slow weekend ready take week  positive  negative\n",
       "1321196       bachelorette sadddddddd wes still liked jake  negative  positive\n",
       "348949               actually new lesson plan changin book  negative  positive\n",
       "27106                                               crappy  positive  negative\n",
       "432322             took way longer home making dino nugget  positive  negative\n",
       "869304                            ill twitter wme tho ipod  positive  negative\n",
       "1509294                                go back later buy u  negative  positive\n",
       "594122                               rgamethi live account  negative  positive"
      ]
     },
     "execution_count": 11,
     "metadata": {},
     "output_type": "execute_result"
    }
   ],
   "source": [
    "misclassified.sample(10)[[\"clean_text\", \"true\", \"pred\"]]\n"
   ]
  },
  {
   "cell_type": "code",
   "execution_count": 16,
   "id": "dac8aac5",
   "metadata": {},
   "outputs": [
    {
     "data": {
      "image/png": "[encoded data removed]",
      "text/plain": [
       "<Figure size 1000x500 with 2 Axes>"
      ]
     },
     "metadata": {},
     "output_type": "display_data"
    }
   ],
   "source": [
    "import seaborn as sns\n",
    "import matplotlib.pyplot as plt\n",
    "\n",
    "cm = confusion_matrix(y_test, y_pred, labels=np.arange(len(encoder.classes_)))\n",
    "\n",
    "plt.figure(figsize=(10, 5))\n",
    "sns.heatmap(cm, annot=True, fmt=\"d\", cmap=\"Blues\", xticklabels=encoder.classes_, yticklabels=encoder.classes_)\n",
    "plt.xlabel(\"Predicted\", fontsize=18)\n",
    "plt.ylabel(\"Actual\", fontsize=18)\n",
    "plt.title(\"Confusion Matrix\", fontsize=18)\n",
    "plt.tight_layout()\n",
    "plt.show()\n"
   ]
  }
 ],
 "metadata": {
  "kernelspec": {
   "display_name": "base",
   "language": "python",
   "name": "python3"
  },
  "language_info": {
   "codemirror_mode": {
    "name": "ipython",
    "version": 3
   },
   "file_extension": ".py",
   "mimetype": "text/x-python",
   "name": "python",
   "nbconvert_exporter": "python",
   "pygments_lexer": "ipython3",
   "version": "3.12.7"
  }
 },
 "nbformat": 4,
 "nbformat_minor": 5
}
