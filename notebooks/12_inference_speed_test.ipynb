{
 "cells": [
  {
   "cell_type": "code",
   "execution_count": null,
   "id": "ea74df69",
   "metadata": {},
   "outputs": [],
   "source": [
    "import pandas as pd\n",
    "import numpy as np\n",
    "import joblib\n",
    "import time\n",
    "\n",
    "from sklearn.linear_model import LogisticRegression\n",
    "from sklearn.svm import SVC\n",
    "from sklearn.pipeline import make_pipeline\n",
    "from sklearn.model_selection import train_test_split\n",
    "from sklearn.feature_extraction.text import TfidfVectorizer\n",
    "\n",
    "from src.preprocessing import preprocess\n",
    "from typing import List, Tuple"
   ]
  },
  {
   "cell_type": "code",
   "execution_count": null,
   "id": "bce87100",
   "metadata": {},
   "outputs": [],
   "source": [
    "MODEL_PATHS = {\n",
    "    \"Logistic Regression\": \"../models/logreg_model.pkl\",\n",
    "    \"SVM\": \"../models/svm_model.pkl\"\n",
    "}\n",
    "\n",
    "VECTORIZER_PATH = \"../models/tfidf_vectorizer.pkl\"\n",
    "ENCODER_PATH = \"../models/label_encoder.pkl\"\n",
    "\n",
    "vectorizer = joblib.load(VECTORIZER_PATH)\n",
    "encoder = joblib.load(ENCODER_PATH)\n",
    "\n",
    "def load_model(path: str):\n",
    "    return joblib.load(path)"
   ]
  },
  {
   "cell_type": "code",
   "execution_count": null,
   "id": "64b4faf2",
   "metadata": {},
   "outputs": [],
   "source": [
    "sample_tweets = [\n",
    "    \"I absolutely loved the user interface and overall performance!\",\n",
    "    \"Worst experience ever. Completely disappointed with the app.\",\n",
    "    \"Not sure how I feel about it yet.\",\n",
    "    \"The new update made things worse than before.\",\n",
    "    \"Fantastic service! Everything works perfectly.\",\n",
    "    \"It crashes too much. Unusable.\",\n",
    "    \"Could be better, but decent overall.\",\n",
    "    \"I don't like the new design, it's confusing.\",\n",
    "    \"Great job on the latest features, very useful!\",\n",
    "    \"I hate the new changes, they ruined everything.\"\n",
    "]"
   ]
  },
  {
   "cell_type": "code",
   "execution_count": null,
   "id": "a52781d0",
   "metadata": {},
   "outputs": [],
   "source": [
    "def time_inference(model, tweets: List[str]) -> Tuple[float, float]:\n",
    "    cleaned = [preprocess(tweet) for tweet in tweets]\n",
    "    X = vectorizer.transform(cleaned)\n",
    "\n",
    "    start_single = time.perf_counter()\n",
    "    for x in X:\n",
    "        _ = model.predict(x)\n",
    "    end_single = time.perf_counter()\n",
    "\n",
    "    start_batch = time.perf_counter()\n",
    "    _ = model.predict(X)\n",
    "    end_batch = time.perf_counter()\n",
    "\n",
    "    avg_single = (end_single - start_single) / len(tweets)\n",
    "    batch_time = end_batch - start_batch\n",
    "\n",
    "    return avg_single, batch_time"
   ]
  },
  {
   "cell_type": "code",
   "execution_count": null,
   "id": "cdf113d8",
   "metadata": {},
   "outputs": [],
   "source": [
    "results = []\n",
    "\n",
    "for name, path in MODEL_PATHS.items():\n",
    "    model = load_model(path)\n",
    "    avg_time, batch_time = time_inference(model, sample_tweets)\n",
    "    results.append({\n",
    "        \"Model\": name,\n",
    "        \"Avg Time Per Tweet (s)\": round(avg_time, 6),\n",
    "        \"Batch Time (s)\": round(batch_time, 6)\n",
    "    })\n",
    "\n",
    "df_results = pd.DataFrame(results)\n",
    "df_results"
   ]
  },
  {
   "cell_type": "code",
   "execution_count": null,
   "id": "31facad5",
   "metadata": {},
   "outputs": [],
   "source": [
    "sample_labels = [\n",
    "    \"positive\",\n",
    "    \"negative\",,\n",
    "    \"negative\",\n",
    "    \"positive\",\n",
    "    \"negative\",\n",
    "    \"positive\",\n",
    "    \"negative\",\n",
    "    \"positive\",\n",
    "    \"negative\",\n",
    "    \"negative\"\n",
    "]\n",
    "\n",
    "cleaned = [preprocess(t) for t in sample_tweets]\n",
    "\n",
    "X_train, X_test, y_train, y_test = train_test_split(\n",
    "    cleaned, sample_labels, test_size=0.3, random_state=42\n",
    ")\n",
    "\n",
    "live_pipeline = make_pipeline(\n",
    "    TfidfVectorizer(),\n",
    "    LogisticRegression(max_iter=500)\n",
    ")\n",
    "\n",
    "live_pipeline.fit(X_train, y_train)"
   ]
  },
  {
   "cell_type": "code",
   "execution_count": null,
   "id": "ba278161",
   "metadata": {},
   "outputs": [],
   "source": [
    "def time_pipeline(model, tweets: List[str]) -> Tuple[float, float]:\n",
    "    start_single = time.perf_counter()\n",
    "    for tweet in tweets:\n",
    "        _ = model.predict([tweet])\n",
    "    end_single = time.perf_counter()\n",
    "\n",
    "    start_batch = time.perf_counter()\n",
    "    _ = model.predict(tweets)\n",
    "    end_batch = time.perf_counter()\n",
    "\n",
    "    avg_single = (end_single - start_single) / len(tweets)\n",
    "    batch_time = end_batch - start_batch\n",
    "    return avg_single, batch_time\n",
    "\n",
    "live_avg, live_batch = time_pipeline(live_pipeline, X_test)\n",
    "\n",
    "df_results.loc[len(df_results.index)] = {\n",
    "    \"Model\": \"Live Logistic Pipeline\",\n",
    "    \"Avg Time Per Tweet (s)\": round(live_avg, 6),\n",
    "    \"Batch Time (s)\": round(live_batch, 6)\n",
    "}\n",
    "\n",
    "df_results"
   ]
  },
  {
   "cell_type": "code",
   "execution_count": null,
   "id": "ce14d089",
   "metadata": {},
   "outputs": [],
   "source": [
    "import matplotlib.pyplot as plt\n",
    "import seaborn as sns\n",
    "\n",
    "plt.figure(figsize=(8, 5))\n",
    "sns.barplot(data=df_results, x=\"Model\", y=\"Avg Time Per Tweet (s)\")\n",
    "plt.title(\"Average Inference Time per Tweet\")\n",
    "plt.ylabel(\"Time (seconds)\")\n",
    "plt.xticks(rotation=15)\n",
    "plt.grid(True, axis='y', linestyle='--', alpha=0.7)\n",
    "plt.tight_layout()\n",
    "plt.show()"
   ]
  }
 ],
 "metadata": {
  "kernelspec": {
   "display_name": "base",
   "language": "python",
   "name": "python3"
  },
  "language_info": {
   "codemirror_mode": {
    "name": "ipython",
    "version": 3
   },
   "file_extension": ".py",
   "mimetype": "text/x-python",
   "name": "python",
   "nbconvert_exporter": "python",
   "pygments_lexer": "ipython3",
   "version": "3.12.7"
  }
 },
 "nbformat": 4,
 "nbformat_minor": 5
}
